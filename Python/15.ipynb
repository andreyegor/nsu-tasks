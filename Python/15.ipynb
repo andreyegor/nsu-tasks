{
 "cells": [
  {
   "cell_type": "markdown",
   "metadata": {},
   "source": [
    "## Тривиальная реализация игры жизнь с Numpy и без\n",
    "Нужно запустить основной код, выбрать начальное состояние поля и действие с ним"
   ]
  },
  {
   "cell_type": "markdown",
   "metadata": {},
   "source": [
    "### Основной код"
   ]
  },
  {
   "cell_type": "code",
   "execution_count": null,
   "metadata": {},
   "outputs": [],
   "source": [
    "import numpy as np\n",
    "import matplotlib.pyplot as plt\n",
    "from time import time\n",
    "from matplotlib.animation import FuncAnimation\n",
    "from IPython.display import HTML\n",
    "\n",
    "\n",
    "\n",
    "size = -1\n",
    "\n",
    "\n",
    "def animate(f, state, screen):\n",
    "    def inner(i):\n",
    "        nonlocal state\n",
    "        screen.set_data(state)\n",
    "        state = f(state)\n",
    "\n",
    "    return inner\n",
    "\n",
    "\n",
    "def is_alive(grid, x, y):\n",
    "    xminus = (x - 1) % size\n",
    "    xplus = (x + 1) % size\n",
    "    yminus = (y - 1) % size\n",
    "    yplus = (y + 1) % size\n",
    "    cnt = (\n",
    "        grid[xminus][yminus]\n",
    "        + grid[xminus][y]\n",
    "        + grid[xminus][yplus]\n",
    "        + grid[x][yminus]\n",
    "        + grid[x][yplus]\n",
    "        + grid[xplus][yminus]\n",
    "        + grid[xplus][y]\n",
    "        + grid[xplus][yplus]\n",
    "    )\n",
    "    if cnt == 2:\n",
    "        return grid[x][y]\n",
    "    if cnt == 3:\n",
    "        return 1\n",
    "    return 0\n",
    "\n",
    "\n",
    "\n",
    "def game_of_life(grid):\n",
    "    return [[is_alive(grid, i, j) for j in range(size)] for i in range(size)]\n",
    "\n",
    "\n",
    "\n",
    "def game_of_life_numpy(state):\n",
    "    out = np.zeros_like(state)\n",
    "    for i in range(size):\n",
    "        for j in range(size):\n",
    "            if is_alive(state, i, j):\n",
    "                out[i][j] = 1\n",
    "    return out"
   ]
  },
  {
   "cell_type": "markdown",
   "metadata": {},
   "source": [
    "### Начальные состояние поля"
   ]
  },
  {
   "cell_type": "code",
   "execution_count": null,
   "metadata": {},
   "outputs": [],
   "source": [
    "# задать самолетик справа сверху\n",
    "size = 128  # размер сетки\n",
    "\n",
    "cells = [[size - 1, 0], [size - 2, 1], [size - 2, 2], [size - 3, 0], [size - 3, 1]]\n",
    "initial_state = [[[i, j] in cells for i in range(size)] for j in range(size)]\n",
    "initial_state_numpy = np.array(initial_state, dtype=np.byte)"
   ]
  },
  {
   "cell_type": "code",
   "execution_count": null,
   "metadata": {},
   "outputs": [],
   "source": [
    "# задать случайно\n",
    "size = 128  # размер сетки\n",
    "initial_state_numpy = np.random.randint(0, 2, size=(size, size))\n",
    "\n",
    "initial_state = list(initial_state_numpy)"
   ]
  },
  {
   "cell_type": "markdown",
   "metadata": {},
   "source": [
    "### Действия с полем"
   ]
  },
  {
   "cell_type": "code",
   "execution_count": null,
   "metadata": {},
   "outputs": [],
   "source": [
    "# Сравнить время работы numpy и обычной реализации\n",
    "state = initial_state.copy()\n",
    "start = time()\n",
    "for i in range(128):\n",
    "    state = game_of_life(state)\n",
    "print(f\"Время исполнения без numpy составило {time()-start} секунд\")\n",
    "\n",
    "\n",
    "numpy_state = np.copy(initial_state_numpy)\n",
    "start = time()\n",
    "for i in range(128):\n",
    "    numpy_state = game_of_life_numpy(numpy_state)\n",
    "print(f\"Время исполнения c numpy составило {time()-start} секунд\")\n",
    "\n",
    "assert np.array_equal(state, numpy_state)"
   ]
  },
  {
   "cell_type": "code",
   "execution_count": null,
   "metadata": {},
   "outputs": [],
   "source": [
    "# Визуализация без numpy\n",
    "numpy_state = initial_state.copy()\n",
    "screen = plt.matshow(numpy_state)\n",
    "anim = FuncAnimation(plt.gcf(), animate(game_of_life, numpy_state, screen), frames=128)\n",
    "HTML(anim.to_jshtml())"
   ]
  },
  {
   "cell_type": "code",
   "execution_count": null,
   "metadata": {},
   "outputs": [],
   "source": [
    "# Визуализация с numpy\n",
    "numpy_state = initial_state_numpy.copy()\n",
    "screen = plt.matshow(numpy_state)\n",
    "anim = FuncAnimation(\n",
    "    plt.gcf(), animate(game_of_life_numpy, numpy_state, screen), frames=128\n",
    ")\n",
    "HTML(anim.to_jshtml())"
   ]
  }
 ],
 "metadata": {
  "kernelspec": {
   "display_name": "base",
   "language": "python",
   "name": "python3"
  },
  "language_info": {
   "codemirror_mode": {
    "name": "ipython",
    "version": 3
   },
   "file_extension": ".py",
   "mimetype": "text/x-python",
   "name": "python",
   "nbconvert_exporter": "python",
   "pygments_lexer": "ipython3",
   "version": "3.11.3"
  }
 },
 "nbformat": 4,
 "nbformat_minor": 2
}
